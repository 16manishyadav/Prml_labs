{
  "cells": [
    {
      "cell_type": "markdown",
      "metadata": {
        "id": "CV8szrhrpzrF"
      },
      "source": [
        "##Q1"
      ]
    },
    {
      "cell_type": "code",
      "execution_count": 27,
      "metadata": {
        "colab": {
          "base_uri": "https://localhost:8080/"
        },
        "id": "N9HSLeiMIbJH",
        "outputId": "4c35041a-a207-4681-a97c-2afae492b999"
      },
      "outputs": [
        {
          "name": "stdout",
          "output_type": "stream",
          "text": [
            "['Beautiful is better than ugly.', 'Explicit is better than implicit.', 'Simple is better than complex.', 'Complex is better than complicated.', 'Flat is better than nested.', 'Sparse is better than dense.']\n"
          ]
        }
      ],
      "source": [
        "file = open(\"f1.txt\")\n",
        "#f2 = open(\"Things to do.docx\")\n",
        "f1 = []\n",
        "for i in file:\n",
        "  f1.append(i.strip())\n",
        "print(f1)"
      ]
    },
    {
      "cell_type": "code",
      "execution_count": 28,
      "metadata": {
        "colab": {
          "base_uri": "https://localhost:8080/"
        },
        "id": "7P8k8BFmKdbz",
        "outputId": "e74f6acb-852d-46eb-b695-c329c6876d3b"
      },
      "outputs": [
        {
          "name": "stdout",
          "output_type": "stream",
          "text": [
            "<class 'str'>\n",
            "<class 'int'>\n"
          ]
        }
      ],
      "source": [
        "x = input()\n",
        "print(type(x))\n",
        "a = int(x)\n",
        "print(type(a))"
      ]
    },
    {
      "cell_type": "code",
      "execution_count": 29,
      "metadata": {
        "colab": {
          "base_uri": "https://localhost:8080/"
        },
        "id": "nFAHbY0WLNmk",
        "outputId": "e048393d-e4d6-40a3-aac5-882ec74acd78"
      },
      "outputs": [
        {
          "name": "stdout",
          "output_type": "stream",
          "text": [
            "2023-01-10 15:51:35\n",
            "<class 'datetime.datetime'>\n"
          ]
        }
      ],
      "source": [
        "import datetime\n",
        "dt = \"10-01-2023 15:51:35\"\n",
        "dtfile = datetime.datetime.strptime(dt,\"%d-%m-%Y %H:%M:%S\")\n",
        "print(dtfile)\n",
        "print(type(dtfile))"
      ]
    },
    {
      "cell_type": "markdown",
      "metadata": {
        "id": "oP-Tuv76mtLo"
      },
      "source": []
    },
    {
      "cell_type": "code",
      "execution_count": 30,
      "metadata": {
        "id": "7nv1sYhsOWRU"
      },
      "outputs": [
        {
          "data": {
            "text/plain": [
              "nt.times_result(user=2.015625, system=0.734375, children_user=0.0, children_system=0.0, elapsed=0.0)"
            ]
          },
          "execution_count": 30,
          "metadata": {},
          "output_type": "execute_result"
        }
      ],
      "source": [
        "import os\n",
        "#os.system(\"f1.txt\")\n",
        "os.times()"
      ]
    },
    {
      "cell_type": "code",
      "execution_count": 31,
      "metadata": {
        "id": "dEg93TMeQbd0"
      },
      "outputs": [
        {
          "name": "stdout",
          "output_type": "stream",
          "text": [
            "6\n"
          ]
        }
      ],
      "source": [
        "l1 = [1,2,3,4,5,6,7,8,9,1,2,1,2,3,1,5,6,1,7,9,1]\n",
        "#assume we have to count 1\n",
        "count = l1.count(1)\n",
        "print(count)\n"
      ]
    },
    {
      "cell_type": "code",
      "execution_count": 32,
      "metadata": {
        "id": "O38bCNmgQ7Gr"
      },
      "outputs": [
        {
          "name": "stdout",
          "output_type": "stream",
          "text": [
            "[1, 232, 5, 'a', 'b', 'c', 1.1, 1.2, 1.22]\n"
          ]
        }
      ],
      "source": [
        "from functools import reduce\n",
        "from operator import concat\n",
        "l1 = [[1,232,5],[\"a\",\"b\",\"c\"],[1.10,1.20,1.22]]\n",
        "lst = reduce(concat,l1)\n",
        "print(lst)"
      ]
    },
    {
      "cell_type": "code",
      "execution_count": 33,
      "metadata": {
        "id": "9rdHOBBxTC8i"
      },
      "outputs": [
        {
          "name": "stdout",
          "output_type": "stream",
          "text": [
            "{'a': 1, 'b': 10, 'c': 100, 'e': 1000, 'f': 1234, 1: 12359}\n"
          ]
        }
      ],
      "source": [
        "d1 = {\"a\":1,\"b\":10,\"c\":100}\n",
        "d2 = {\"e\":1000,\"f\":1234,1:12359}\n",
        "print({**d1,**d2}) "
      ]
    },
    {
      "cell_type": "code",
      "execution_count": 34,
      "metadata": {
        "id": "AG6KL3kvUG5u"
      },
      "outputs": [
        {
          "name": "stdout",
          "output_type": "stream",
          "text": [
            "[1, 2, 5, 13]\n"
          ]
        }
      ],
      "source": [
        "l1 = [1,1,1,2,13,5,1,1,1,1,]\n",
        "q = set(l1)\n",
        "lst = list(q)\n",
        "print(lst)\n"
      ]
    },
    {
      "cell_type": "code",
      "execution_count": 35,
      "metadata": {
        "id": "Mnn_oUBBUot8"
      },
      "outputs": [
        {
          "name": "stdout",
          "output_type": "stream",
          "text": [
            "no\n"
          ]
        }
      ],
      "source": [
        "d1 = {1:1,2:2,3:3,4:4}\n",
        "k = int(input())\n",
        "flag = False\n",
        "for i in d1:\n",
        "  if(k==i):\n",
        "    flag = True\n",
        "    print(\"yes\")\n",
        "    break\n",
        "if(flag==False):\n",
        "  print(\"no\")\n"
      ]
    },
    {
      "cell_type": "markdown",
      "metadata": {
        "id": "sflaQwWcqQbT"
      },
      "source": [
        "##Q2"
      ]
    },
    {
      "cell_type": "code",
      "execution_count": 36,
      "metadata": {
        "id": "wcyn1-jrWEXe"
      },
      "outputs": [
        {
          "name": "stdout",
          "output_type": "stream",
          "text": [
            "[5 6]\n",
            "[11 13]\n",
            "[[122 133]\n",
            " [166 181]]\n",
            "[[ 50  66]\n",
            " [ 84 104]]\n",
            "134\n",
            "146\n",
            "156\n",
            "170\n"
          ]
        }
      ],
      "source": [
        "import numpy as np\n",
        "l1 = np.arange(5,9).reshape(2,2)\n",
        "l2 = np.arange(10,14).reshape(2,2)\n",
        "print(l1[0])\n",
        "print(l2[:,1])\n",
        "print(np.matmul(l1,l2))\n",
        "print(np.multiply(l1,l2))\n",
        "for i in range(2):\n",
        "  for j in range(2):\n",
        "    print(np.dot(l1[:,i],l2[:,j]))"
      ]
    },
    {
      "cell_type": "markdown",
      "metadata": {
        "id": "VfK3RnOJqYaL"
      },
      "source": [
        "##Q3"
      ]
    },
    {
      "cell_type": "code",
      "execution_count": 37,
      "metadata": {
        "id": "8ONrvoMdbK3N"
      },
      "outputs": [],
      "source": [
        "import pandas as pd\n",
        "import numpy as np\n",
        "# Model : Nominal\n",
        "# Type : Ordinal\n",
        "# Max Price : ratio\n",
        "# Airbags : Ordninal\n",
        "\n",
        "def f(df1):\n",
        "  df1.fillna(df1.mean(), inplace=True)\n",
        "  return df1"
      ]
    },
    {
      "cell_type": "code",
      "execution_count": 38,
      "metadata": {
        "id": "PDdL3WlGLMHP"
      },
      "outputs": [],
      "source": [
        "# reducing noice\n",
        "import pandas as pd\n",
        "import numpy as np\n",
        "def f(df,windsize):\n",
        "  df1 = df.rolling(windsize).mean()\n",
        "  return df1"
      ]
    },
    {
      "cell_type": "code",
      "execution_count": 39,
      "metadata": {
        "id": "rDBYNf03L3T5"
      },
      "outputs": [],
      "source": [
        "# fuction to nomalise or scale features\n",
        "import pandas as pd\n",
        "import numpy as np\n",
        "#using the fuction data-data.min()/(data.max()-data.min()) to normalize the features\n",
        "\n",
        "def normalize(df, method):\n",
        "    if method == 'joint':\n",
        "        dfscale = (df - df.min()) / (df.max() - df.min())\n",
        "    else:\n",
        "        dfscale = df.copy()\n",
        "        for col in df.columns:\n",
        "            dfscale[col] = (df[col] - df[col].min()) / (df[col].max() - df[col].min())\n",
        "    return dfscale"
      ]
    },
    {
      "cell_type": "code",
      "execution_count": 40,
      "metadata": {
        "id": "oHKoBRXkvykf"
      },
      "outputs": [
        {
          "name": "stdout",
          "output_type": "stream",
          "text": [
            "[ 66  57  18  53  55  96  25  14   1  81  59  23  60  97  16  17   3   7\n",
            "  62  90  30  91  77  72  44  45  76  92  73  38  95  93  65  39  83  12\n",
            "  24  84   6  31  21  36  85  64  79  89  61  48  78  43  69  28  40   5\n",
            "  11  70  63  15   4  75  98 100  74  50  99  47  20  56  42  37] [13 58 82 87 33 49  2  9 86 32 88 94 35 51 10 22 26 46 19 68] [13 58 82 87 33 49  2  9 86 32 88 94 35 51 10 22 26 46 19 68 52 34 41 71\n",
            " 27  8 80 67 29 54]\n"
          ]
        }
      ],
      "source": [
        "# function to create a random split\n",
        "import numpy as np\n",
        "import pandas as pd\n",
        "\n",
        "def f(x):\n",
        "  np.random.shuffle(x)\n",
        "  x1 = x[:70]\n",
        "  x2 = x[70:90]\n",
        "  x3 = x[70::]\n",
        "  print(x1,x2,x3)\n",
        "  return\n",
        "x = np.arange(start = 1,stop = 101,step = 1)\n",
        "f(x)\n"
      ]
    },
    {
      "cell_type": "code",
      "execution_count": 41,
      "metadata": {
        "colab": {
          "base_uri": "https://localhost:8080/"
        },
        "id": "-DFp_4oWBz6H",
        "outputId": "720d5735-f03a-424d-ae5d-25b87397466a"
      },
      "outputs": [
        {
          "name": "stdout",
          "output_type": "stream",
          "text": [
            "   First Score  Second Score  Third Score  gender_female  gender_male  \\\n",
            "0        110.0          35.0          NaN              0            1   \n",
            "1         95.0         423.0          4.0              0            0   \n",
            "2          NaN          59.0         88.0              1            0   \n",
            "3         90.0           NaN         99.0              0            0   \n",
            "\n",
            "   gender_transgender  \n",
            "0                   0  \n",
            "1                   1  \n",
            "2                   0  \n",
            "3                   0  \n"
          ]
        }
      ],
      "source": [
        "# encoding as categorical variables\n",
        "import numpy as np\n",
        "import pandas as pd\n",
        "dict1 = {'First Score':[110, 95, np.nan, 90],\n",
        "        'Second Score': [35, 423, 59, np.nan],\n",
        "        'Third Score':[np.nan, 4, 88, 99],\n",
        "    'gender':['male','transgender','female',np.nan]}\n",
        "df1 = pd.DataFrame(dict1)\n",
        "\n",
        "def encoding(df):\n",
        "    catecols = df.select_dtypes(include=['object','category']).columns\n",
        "    encodedarr = pd.get_dummies(df, columns=catecols)\n",
        "    return encodedarr\n",
        "print(encoding(df1));\n",
        "\n"
      ]
    },
    {
      "cell_type": "markdown",
      "metadata": {
        "id": "5nF3pwolqh0J"
      },
      "source": [
        "##Q4"
      ]
    },
    {
      "cell_type": "code",
      "execution_count": 42,
      "metadata": {
        "id": "I-mb-bSSZL2w"
      },
      "outputs": [
        {
          "data": {
            "image/png": "[encoded data removed]",
            "text/plain": [
              "<Figure size 640x480 with 1 Axes>"
            ]
          },
          "metadata": {},
          "output_type": "display_data"
        },
        {
          "data": {
            "image/png": "[encoded data removed]",
            "text/plain": [
              "<Figure size 640x480 with 1 Axes>"
            ]
          },
          "metadata": {},
          "output_type": "display_data"
        },
        {
          "data": {
            "image/png": "[encoded data removed]",
            "text/plain": [
              "<Figure size 640x480 with 1 Axes>"
            ]
          },
          "metadata": {},
          "output_type": "display_data"
        },
        {
          "data": {
            "image/png": "[encoded data removed]",
            "text/plain": [
              "<Figure size 640x480 with 1 Axes>"
            ]
          },
          "metadata": {},
          "output_type": "display_data"
        }
      ],
      "source": [
        "\n",
        "import numpy as np\n",
        "import matplotlib.pyplot as plt\n",
        "x = np.linspace(-10,10)\n",
        "y = 5*x+4\n",
        "plt.plot(x,y,color='red')\n",
        "plt.show()\n",
        "\n",
        "x1 = np.linspace(10,100)\n",
        "y1 = np.log(x1)\n",
        "plt.plot(x1,y1,color='blue')\n",
        "plt.show()\n",
        "\n",
        "x2 = np.linspace(-10,10)\n",
        "y2 = x2*x2\n",
        "plt.plot(x2,y2,color='purple')\n",
        "plt.show()\n",
        "\n",
        "x3 = np.array([0,1,2,3,4])\n",
        "y3 = np.array([2,3,4,5,6])\n",
        "plt.scatter(x3,y3,color='pink')\n",
        "plt.show()"
      ]
    },
    {
      "cell_type": "markdown",
      "metadata": {
        "id": "06ppQMUIqfu_"
      },
      "source": [
        "##Q5"
      ]
    },
    {
      "cell_type": "markdown",
      "metadata": {
        "id": "puktm_Ikm1Q7"
      },
      "source": [
        "# Import the Necessary Python Libraries and Components\n"
      ]
    },
    {
      "cell_type": "code",
      "execution_count": 43,
      "metadata": {
        "id": "BgwUVX6vnOHR"
      },
      "outputs": [],
      "source": [
        "import pandas as pd\n",
        "import numpy as np\n",
        "from sklearn.model_selection import train_test_split as tts\n",
        "from sklearn.linear_model import LogisticRegression as LR\n",
        "from sklearn.tree import DecisionTreeClassifier as DTC\n",
        "from sklearn.metrics import confusion_matrix as cm\n",
        "from sklearn.metrics import precision_score as ps\n",
        "from sklearn.metrics import recall_score as rs\n",
        "from sklearn.metrics import f1_score as f1s\n",
        "from sklearn.metrics import accuracy_score as acc"
      ]
    },
    {
      "cell_type": "markdown",
      "metadata": {
        "id": "GJ_jAz-jnVqt"
      },
      "source": [
        "### To Disable Convergence Warnings (For Custom Training)\n"
      ]
    },
    {
      "cell_type": "code",
      "execution_count": 44,
      "metadata": {
        "id": "R7othN3SnZ1Q"
      },
      "outputs": [],
      "source": [
        "from warnings import simplefilter\n",
        "from sklearn.exceptions import ConvergenceWarning\n",
        "simplefilter(\"ignore\", category=ConvergenceWarning)"
      ]
    },
    {
      "cell_type": "markdown",
      "metadata": {
        "id": "mKrl6yv7ngk4"
      },
      "source": [
        "# 1.) Input the Dataset"
      ]
    },
    {
      "cell_type": "code",
      "execution_count": 45,
      "metadata": {
        "colab": {
          "base_uri": "https://localhost:8080/",
          "height": 505
        },
        "id": "B9RmJ9iBmLht",
        "outputId": "af0003c1-1002-4f14-b23a-bbd71378c840"
      },
      "outputs": [
        {
          "data": {
            "text/html": [
              "<div>\n",
              "<style scoped>\n",
              "    .dataframe tbody tr th:only-of-type {\n",
              "        vertical-align: middle;\n",
              "    }\n",
              "\n",
              "    .dataframe tbody tr th {\n",
              "        vertical-align: top;\n",
              "    }\n",
              "\n",
              "    .dataframe thead th {\n",
              "        text-align: right;\n",
              "    }\n",
              "</style>\n",
              "<table border=\"1\" class=\"dataframe\">\n",
              "  <thead>\n",
              "    <tr style=\"text-align: right;\">\n",
              "      <th></th>\n",
              "      <th>id</th>\n",
              "      <th>diagnosis</th>\n",
              "      <th>radius_mean</th>\n",
              "      <th>texture_mean</th>\n",
              "      <th>perimeter_mean</th>\n",
              "      <th>area_mean</th>\n",
              "      <th>smoothness_mean</th>\n",
              "      <th>compactness_mean</th>\n",
              "      <th>concavity_mean</th>\n",
              "      <th>concave points_mean</th>\n",
              "      <th>...</th>\n",
              "      <th>texture_worst</th>\n",
              "      <th>perimeter_worst</th>\n",
              "      <th>area_worst</th>\n",
              "      <th>smoothness_worst</th>\n",
              "      <th>compactness_worst</th>\n",
              "      <th>concavity_worst</th>\n",
              "      <th>concave points_worst</th>\n",
              "      <th>symmetry_worst</th>\n",
              "      <th>fractal_dimension_worst</th>\n",
              "      <th>Unnamed: 32</th>\n",
              "    </tr>\n",
              "  </thead>\n",
              "  <tbody>\n",
              "    <tr>\n",
              "      <th>0</th>\n",
              "      <td>842302</td>\n",
              "      <td>M</td>\n",
              "      <td>17.99</td>\n",
              "      <td>10.38</td>\n",
              "      <td>122.80</td>\n",
              "      <td>1001.0</td>\n",
              "      <td>0.11840</td>\n",
              "      <td>0.27760</td>\n",
              "      <td>0.30010</td>\n",
              "      <td>0.14710</td>\n",
              "      <td>...</td>\n",
              "      <td>17.33</td>\n",
              "      <td>184.60</td>\n",
              "      <td>2019.0</td>\n",
              "      <td>0.16220</td>\n",
              "      <td>0.66560</td>\n",
              "      <td>0.7119</td>\n",
              "      <td>0.2654</td>\n",
              "      <td>0.4601</td>\n",
              "      <td>0.11890</td>\n",
              "      <td>NaN</td>\n",
              "    </tr>\n",
              "    <tr>\n",
              "      <th>1</th>\n",
              "      <td>842517</td>\n",
              "      <td>M</td>\n",
              "      <td>20.57</td>\n",
              "      <td>17.77</td>\n",
              "      <td>132.90</td>\n",
              "      <td>1326.0</td>\n",
              "      <td>0.08474</td>\n",
              "      <td>0.07864</td>\n",
              "      <td>0.08690</td>\n",
              "      <td>0.07017</td>\n",
              "      <td>...</td>\n",
              "      <td>23.41</td>\n",
              "      <td>158.80</td>\n",
              "      <td>1956.0</td>\n",
              "      <td>0.12380</td>\n",
              "      <td>0.18660</td>\n",
              "      <td>0.2416</td>\n",
              "      <td>0.1860</td>\n",
              "      <td>0.2750</td>\n",
              "      <td>0.08902</td>\n",
              "      <td>NaN</td>\n",
              "    </tr>\n",
              "    <tr>\n",
              "      <th>2</th>\n",
              "      <td>84300903</td>\n",
              "      <td>M</td>\n",
              "      <td>19.69</td>\n",
              "      <td>21.25</td>\n",
              "      <td>130.00</td>\n",
              "      <td>1203.0</td>\n",
              "      <td>0.10960</td>\n",
              "      <td>0.15990</td>\n",
              "      <td>0.19740</td>\n",
              "      <td>0.12790</td>\n",
              "      <td>...</td>\n",
              "      <td>25.53</td>\n",
              "      <td>152.50</td>\n",
              "      <td>1709.0</td>\n",
              "      <td>0.14440</td>\n",
              "      <td>0.42450</td>\n",
              "      <td>0.4504</td>\n",
              "      <td>0.2430</td>\n",
              "      <td>0.3613</td>\n",
              "      <td>0.08758</td>\n",
              "      <td>NaN</td>\n",
              "    </tr>\n",
              "    <tr>\n",
              "      <th>3</th>\n",
              "      <td>84348301</td>\n",
              "      <td>M</td>\n",
              "      <td>11.42</td>\n",
              "      <td>20.38</td>\n",
              "      <td>77.58</td>\n",
              "      <td>386.1</td>\n",
              "      <td>0.14250</td>\n",
              "      <td>0.28390</td>\n",
              "      <td>0.24140</td>\n",
              "      <td>0.10520</td>\n",
              "      <td>...</td>\n",
              "      <td>26.50</td>\n",
              "      <td>98.87</td>\n",
              "      <td>567.7</td>\n",
              "      <td>0.20980</td>\n",
              "      <td>0.86630</td>\n",
              "      <td>0.6869</td>\n",
              "      <td>0.2575</td>\n",
              "      <td>0.6638</td>\n",
              "      <td>0.17300</td>\n",
              "      <td>NaN</td>\n",
              "    </tr>\n",
              "    <tr>\n",
              "      <th>4</th>\n",
              "      <td>84358402</td>\n",
              "      <td>M</td>\n",
              "      <td>20.29</td>\n",
              "      <td>14.34</td>\n",
              "      <td>135.10</td>\n",
              "      <td>1297.0</td>\n",
              "      <td>0.10030</td>\n",
              "      <td>0.13280</td>\n",
              "      <td>0.19800</td>\n",
              "      <td>0.10430</td>\n",
              "      <td>...</td>\n",
              "      <td>16.67</td>\n",
              "      <td>152.20</td>\n",
              "      <td>1575.0</td>\n",
              "      <td>0.13740</td>\n",
              "      <td>0.20500</td>\n",
              "      <td>0.4000</td>\n",
              "      <td>0.1625</td>\n",
              "      <td>0.2364</td>\n",
              "      <td>0.07678</td>\n",
              "      <td>NaN</td>\n",
              "    </tr>\n",
              "    <tr>\n",
              "      <th>...</th>\n",
              "      <td>...</td>\n",
              "      <td>...</td>\n",
              "      <td>...</td>\n",
              "      <td>...</td>\n",
              "      <td>...</td>\n",
              "      <td>...</td>\n",
              "      <td>...</td>\n",
              "      <td>...</td>\n",
              "      <td>...</td>\n",
              "      <td>...</td>\n",
              "      <td>...</td>\n",
              "      <td>...</td>\n",
              "      <td>...</td>\n",
              "      <td>...</td>\n",
              "      <td>...</td>\n",
              "      <td>...</td>\n",
              "      <td>...</td>\n",
              "      <td>...</td>\n",
              "      <td>...</td>\n",
              "      <td>...</td>\n",
              "      <td>...</td>\n",
              "    </tr>\n",
              "    <tr>\n",
              "      <th>564</th>\n",
              "      <td>926424</td>\n",
              "      <td>M</td>\n",
              "      <td>21.56</td>\n",
              "      <td>22.39</td>\n",
              "      <td>142.00</td>\n",
              "      <td>1479.0</td>\n",
              "      <td>0.11100</td>\n",
              "      <td>0.11590</td>\n",
              "      <td>0.24390</td>\n",
              "      <td>0.13890</td>\n",
              "      <td>...</td>\n",
              "      <td>26.40</td>\n",
              "      <td>166.10</td>\n",
              "      <td>2027.0</td>\n",
              "      <td>0.14100</td>\n",
              "      <td>0.21130</td>\n",
              "      <td>0.4107</td>\n",
              "      <td>0.2216</td>\n",
              "      <td>0.2060</td>\n",
              "      <td>0.07115</td>\n",
              "      <td>NaN</td>\n",
              "    </tr>\n",
              "    <tr>\n",
              "      <th>565</th>\n",
              "      <td>926682</td>\n",
              "      <td>M</td>\n",
              "      <td>20.13</td>\n",
              "      <td>28.25</td>\n",
              "      <td>131.20</td>\n",
              "      <td>1261.0</td>\n",
              "      <td>0.09780</td>\n",
              "      <td>0.10340</td>\n",
              "      <td>0.14400</td>\n",
              "      <td>0.09791</td>\n",
              "      <td>...</td>\n",
              "      <td>38.25</td>\n",
              "      <td>155.00</td>\n",
              "      <td>1731.0</td>\n",
              "      <td>0.11660</td>\n",
              "      <td>0.19220</td>\n",
              "      <td>0.3215</td>\n",
              "      <td>0.1628</td>\n",
              "      <td>0.2572</td>\n",
              "      <td>0.06637</td>\n",
              "      <td>NaN</td>\n",
              "    </tr>\n",
              "    <tr>\n",
              "      <th>566</th>\n",
              "      <td>926954</td>\n",
              "      <td>M</td>\n",
              "      <td>16.60</td>\n",
              "      <td>28.08</td>\n",
              "      <td>108.30</td>\n",
              "      <td>858.1</td>\n",
              "      <td>0.08455</td>\n",
              "      <td>0.10230</td>\n",
              "      <td>0.09251</td>\n",
              "      <td>0.05302</td>\n",
              "      <td>...</td>\n",
              "      <td>34.12</td>\n",
              "      <td>126.70</td>\n",
              "      <td>1124.0</td>\n",
              "      <td>0.11390</td>\n",
              "      <td>0.30940</td>\n",
              "      <td>0.3403</td>\n",
              "      <td>0.1418</td>\n",
              "      <td>0.2218</td>\n",
              "      <td>0.07820</td>\n",
              "      <td>NaN</td>\n",
              "    </tr>\n",
              "    <tr>\n",
              "      <th>567</th>\n",
              "      <td>927241</td>\n",
              "      <td>M</td>\n",
              "      <td>20.60</td>\n",
              "      <td>29.33</td>\n",
              "      <td>140.10</td>\n",
              "      <td>1265.0</td>\n",
              "      <td>0.11780</td>\n",
              "      <td>0.27700</td>\n",
              "      <td>0.35140</td>\n",
              "      <td>0.15200</td>\n",
              "      <td>...</td>\n",
              "      <td>39.42</td>\n",
              "      <td>184.60</td>\n",
              "      <td>1821.0</td>\n",
              "      <td>0.16500</td>\n",
              "      <td>0.86810</td>\n",
              "      <td>0.9387</td>\n",
              "      <td>0.2650</td>\n",
              "      <td>0.4087</td>\n",
              "      <td>0.12400</td>\n",
              "      <td>NaN</td>\n",
              "    </tr>\n",
              "    <tr>\n",
              "      <th>568</th>\n",
              "      <td>92751</td>\n",
              "      <td>B</td>\n",
              "      <td>7.76</td>\n",
              "      <td>24.54</td>\n",
              "      <td>47.92</td>\n",
              "      <td>181.0</td>\n",
              "      <td>0.05263</td>\n",
              "      <td>0.04362</td>\n",
              "      <td>0.00000</td>\n",
              "      <td>0.00000</td>\n",
              "      <td>...</td>\n",
              "      <td>30.37</td>\n",
              "      <td>59.16</td>\n",
              "      <td>268.6</td>\n",
              "      <td>0.08996</td>\n",
              "      <td>0.06444</td>\n",
              "      <td>0.0000</td>\n",
              "      <td>0.0000</td>\n",
              "      <td>0.2871</td>\n",
              "      <td>0.07039</td>\n",
              "      <td>NaN</td>\n",
              "    </tr>\n",
              "  </tbody>\n",
              "</table>\n",
              "<p>569 rows × 33 columns</p>\n",
              "</div>"
            ],
            "text/plain": [
              "           id diagnosis  radius_mean  texture_mean  perimeter_mean  area_mean  \\\n",
              "0      842302         M        17.99         10.38          122.80     1001.0   \n",
              "1      842517         M        20.57         17.77          132.90     1326.0   \n",
              "2    84300903         M        19.69         21.25          130.00     1203.0   \n",
              "3    84348301         M        11.42         20.38           77.58      386.1   \n",
              "4    84358402         M        20.29         14.34          135.10     1297.0   \n",
              "..        ...       ...          ...           ...             ...        ...   \n",
              "564    926424         M        21.56         22.39          142.00     1479.0   \n",
              "565    926682         M        20.13         28.25          131.20     1261.0   \n",
              "566    926954         M        16.60         28.08          108.30      858.1   \n",
              "567    927241         M        20.60         29.33          140.10     1265.0   \n",
              "568     92751         B         7.76         24.54           47.92      181.0   \n",
              "\n",
              "     smoothness_mean  compactness_mean  concavity_mean  concave points_mean  \\\n",
              "0            0.11840           0.27760         0.30010              0.14710   \n",
              "1            0.08474           0.07864         0.08690              0.07017   \n",
              "2            0.10960           0.15990         0.19740              0.12790   \n",
              "3            0.14250           0.28390         0.24140              0.10520   \n",
              "4            0.10030           0.13280         0.19800              0.10430   \n",
              "..               ...               ...             ...                  ...   \n",
              "564          0.11100           0.11590         0.24390              0.13890   \n",
              "565          0.09780           0.10340         0.14400              0.09791   \n",
              "566          0.08455           0.10230         0.09251              0.05302   \n",
              "567          0.11780           0.27700         0.35140              0.15200   \n",
              "568          0.05263           0.04362         0.00000              0.00000   \n",
              "\n",
              "     ...  texture_worst  perimeter_worst  area_worst  smoothness_worst  \\\n",
              "0    ...          17.33           184.60      2019.0           0.16220   \n",
              "1    ...          23.41           158.80      1956.0           0.12380   \n",
              "2    ...          25.53           152.50      1709.0           0.14440   \n",
              "3    ...          26.50            98.87       567.7           0.20980   \n",
              "4    ...          16.67           152.20      1575.0           0.13740   \n",
              "..   ...            ...              ...         ...               ...   \n",
              "564  ...          26.40           166.10      2027.0           0.14100   \n",
              "565  ...          38.25           155.00      1731.0           0.11660   \n",
              "566  ...          34.12           126.70      1124.0           0.11390   \n",
              "567  ...          39.42           184.60      1821.0           0.16500   \n",
              "568  ...          30.37            59.16       268.6           0.08996   \n",
              "\n",
              "     compactness_worst  concavity_worst  concave points_worst  symmetry_worst  \\\n",
              "0              0.66560           0.7119                0.2654          0.4601   \n",
              "1              0.18660           0.2416                0.1860          0.2750   \n",
              "2              0.42450           0.4504                0.2430          0.3613   \n",
              "3              0.86630           0.6869                0.2575          0.6638   \n",
              "4              0.20500           0.4000                0.1625          0.2364   \n",
              "..                 ...              ...                   ...             ...   \n",
              "564            0.21130           0.4107                0.2216          0.2060   \n",
              "565            0.19220           0.3215                0.1628          0.2572   \n",
              "566            0.30940           0.3403                0.1418          0.2218   \n",
              "567            0.86810           0.9387                0.2650          0.4087   \n",
              "568            0.06444           0.0000                0.0000          0.2871   \n",
              "\n",
              "     fractal_dimension_worst  Unnamed: 32  \n",
              "0                    0.11890          NaN  \n",
              "1                    0.08902          NaN  \n",
              "2                    0.08758          NaN  \n",
              "3                    0.17300          NaN  \n",
              "4                    0.07678          NaN  \n",
              "..                       ...          ...  \n",
              "564                  0.07115          NaN  \n",
              "565                  0.06637          NaN  \n",
              "566                  0.07820          NaN  \n",
              "567                  0.12400          NaN  \n",
              "568                  0.07039          NaN  \n",
              "\n",
              "[569 rows x 33 columns]"
            ]
          },
          "execution_count": 45,
          "metadata": {},
          "output_type": "execute_result"
        }
      ],
      "source": [
        "# Dataset Reference :- https://www.kaggle.com/uciml/breast-cancer-wisconsin-data\n",
        "\n",
        "data = pd.read_csv('data.csv')\n",
        "data"
      ]
    },
    {
      "cell_type": "markdown",
      "metadata": {
        "id": "rmER0vdpntCL"
      },
      "source": [
        "# 2.) Convert the String Labels into easily-interpretable Numerics"
      ]
    },
    {
      "cell_type": "code",
      "execution_count": 46,
      "metadata": {
        "colab": {
          "base_uri": "https://localhost:8080/",
          "height": 505
        },
        "id": "ggRdYWc2nuIf",
        "outputId": "d44aba40-fa0d-42ad-acc8-cbd6e45b7653"
      },
      "outputs": [
        {
          "data": {
            "text/html": [
              "<div>\n",
              "<style scoped>\n",
              "    .dataframe tbody tr th:only-of-type {\n",
              "        vertical-align: middle;\n",
              "    }\n",
              "\n",
              "    .dataframe tbody tr th {\n",
              "        vertical-align: top;\n",
              "    }\n",
              "\n",
              "    .dataframe thead th {\n",
              "        text-align: right;\n",
              "    }\n",
              "</style>\n",
              "<table border=\"1\" class=\"dataframe\">\n",
              "  <thead>\n",
              "    <tr style=\"text-align: right;\">\n",
              "      <th></th>\n",
              "      <th>id</th>\n",
              "      <th>diagnosis</th>\n",
              "      <th>radius_mean</th>\n",
              "      <th>texture_mean</th>\n",
              "      <th>perimeter_mean</th>\n",
              "      <th>area_mean</th>\n",
              "      <th>smoothness_mean</th>\n",
              "      <th>compactness_mean</th>\n",
              "      <th>concavity_mean</th>\n",
              "      <th>concave points_mean</th>\n",
              "      <th>...</th>\n",
              "      <th>texture_worst</th>\n",
              "      <th>perimeter_worst</th>\n",
              "      <th>area_worst</th>\n",
              "      <th>smoothness_worst</th>\n",
              "      <th>compactness_worst</th>\n",
              "      <th>concavity_worst</th>\n",
              "      <th>concave points_worst</th>\n",
              "      <th>symmetry_worst</th>\n",
              "      <th>fractal_dimension_worst</th>\n",
              "      <th>Unnamed: 32</th>\n",
              "    </tr>\n",
              "  </thead>\n",
              "  <tbody>\n",
              "    <tr>\n",
              "      <th>0</th>\n",
              "      <td>842302</td>\n",
              "      <td>0</td>\n",
              "      <td>17.99</td>\n",
              "      <td>10.38</td>\n",
              "      <td>122.80</td>\n",
              "      <td>1001.0</td>\n",
              "      <td>0.11840</td>\n",
              "      <td>0.27760</td>\n",
              "      <td>0.30010</td>\n",
              "      <td>0.14710</td>\n",
              "      <td>...</td>\n",
              "      <td>17.33</td>\n",
              "      <td>184.60</td>\n",
              "      <td>2019.0</td>\n",
              "      <td>0.16220</td>\n",
              "      <td>0.66560</td>\n",
              "      <td>0.7119</td>\n",
              "      <td>0.2654</td>\n",
              "      <td>0.4601</td>\n",
              "      <td>0.11890</td>\n",
              "      <td>NaN</td>\n",
              "    </tr>\n",
              "    <tr>\n",
              "      <th>1</th>\n",
              "      <td>842517</td>\n",
              "      <td>0</td>\n",
              "      <td>20.57</td>\n",
              "      <td>17.77</td>\n",
              "      <td>132.90</td>\n",
              "      <td>1326.0</td>\n",
              "      <td>0.08474</td>\n",
              "      <td>0.07864</td>\n",
              "      <td>0.08690</td>\n",
              "      <td>0.07017</td>\n",
              "      <td>...</td>\n",
              "      <td>23.41</td>\n",
              "      <td>158.80</td>\n",
              "      <td>1956.0</td>\n",
              "      <td>0.12380</td>\n",
              "      <td>0.18660</td>\n",
              "      <td>0.2416</td>\n",
              "      <td>0.1860</td>\n",
              "      <td>0.2750</td>\n",
              "      <td>0.08902</td>\n",
              "      <td>NaN</td>\n",
              "    </tr>\n",
              "    <tr>\n",
              "      <th>2</th>\n",
              "      <td>84300903</td>\n",
              "      <td>0</td>\n",
              "      <td>19.69</td>\n",
              "      <td>21.25</td>\n",
              "      <td>130.00</td>\n",
              "      <td>1203.0</td>\n",
              "      <td>0.10960</td>\n",
              "      <td>0.15990</td>\n",
              "      <td>0.19740</td>\n",
              "      <td>0.12790</td>\n",
              "      <td>...</td>\n",
              "      <td>25.53</td>\n",
              "      <td>152.50</td>\n",
              "      <td>1709.0</td>\n",
              "      <td>0.14440</td>\n",
              "      <td>0.42450</td>\n",
              "      <td>0.4504</td>\n",
              "      <td>0.2430</td>\n",
              "      <td>0.3613</td>\n",
              "      <td>0.08758</td>\n",
              "      <td>NaN</td>\n",
              "    </tr>\n",
              "    <tr>\n",
              "      <th>3</th>\n",
              "      <td>84348301</td>\n",
              "      <td>0</td>\n",
              "      <td>11.42</td>\n",
              "      <td>20.38</td>\n",
              "      <td>77.58</td>\n",
              "      <td>386.1</td>\n",
              "      <td>0.14250</td>\n",
              "      <td>0.28390</td>\n",
              "      <td>0.24140</td>\n",
              "      <td>0.10520</td>\n",
              "      <td>...</td>\n",
              "      <td>26.50</td>\n",
              "      <td>98.87</td>\n",
              "      <td>567.7</td>\n",
              "      <td>0.20980</td>\n",
              "      <td>0.86630</td>\n",
              "      <td>0.6869</td>\n",
              "      <td>0.2575</td>\n",
              "      <td>0.6638</td>\n",
              "      <td>0.17300</td>\n",
              "      <td>NaN</td>\n",
              "    </tr>\n",
              "    <tr>\n",
              "      <th>4</th>\n",
              "      <td>84358402</td>\n",
              "      <td>0</td>\n",
              "      <td>20.29</td>\n",
              "      <td>14.34</td>\n",
              "      <td>135.10</td>\n",
              "      <td>1297.0</td>\n",
              "      <td>0.10030</td>\n",
              "      <td>0.13280</td>\n",
              "      <td>0.19800</td>\n",
              "      <td>0.10430</td>\n",
              "      <td>...</td>\n",
              "      <td>16.67</td>\n",
              "      <td>152.20</td>\n",
              "      <td>1575.0</td>\n",
              "      <td>0.13740</td>\n",
              "      <td>0.20500</td>\n",
              "      <td>0.4000</td>\n",
              "      <td>0.1625</td>\n",
              "      <td>0.2364</td>\n",
              "      <td>0.07678</td>\n",
              "      <td>NaN</td>\n",
              "    </tr>\n",
              "    <tr>\n",
              "      <th>...</th>\n",
              "      <td>...</td>\n",
              "      <td>...</td>\n",
              "      <td>...</td>\n",
              "      <td>...</td>\n",
              "      <td>...</td>\n",
              "      <td>...</td>\n",
              "      <td>...</td>\n",
              "      <td>...</td>\n",
              "      <td>...</td>\n",
              "      <td>...</td>\n",
              "      <td>...</td>\n",
              "      <td>...</td>\n",
              "      <td>...</td>\n",
              "      <td>...</td>\n",
              "      <td>...</td>\n",
              "      <td>...</td>\n",
              "      <td>...</td>\n",
              "      <td>...</td>\n",
              "      <td>...</td>\n",
              "      <td>...</td>\n",
              "      <td>...</td>\n",
              "    </tr>\n",
              "    <tr>\n",
              "      <th>564</th>\n",
              "      <td>926424</td>\n",
              "      <td>0</td>\n",
              "      <td>21.56</td>\n",
              "      <td>22.39</td>\n",
              "      <td>142.00</td>\n",
              "      <td>1479.0</td>\n",
              "      <td>0.11100</td>\n",
              "      <td>0.11590</td>\n",
              "      <td>0.24390</td>\n",
              "      <td>0.13890</td>\n",
              "      <td>...</td>\n",
              "      <td>26.40</td>\n",
              "      <td>166.10</td>\n",
              "      <td>2027.0</td>\n",
              "      <td>0.14100</td>\n",
              "      <td>0.21130</td>\n",
              "      <td>0.4107</td>\n",
              "      <td>0.2216</td>\n",
              "      <td>0.2060</td>\n",
              "      <td>0.07115</td>\n",
              "      <td>NaN</td>\n",
              "    </tr>\n",
              "    <tr>\n",
              "      <th>565</th>\n",
              "      <td>926682</td>\n",
              "      <td>0</td>\n",
              "      <td>20.13</td>\n",
              "      <td>28.25</td>\n",
              "      <td>131.20</td>\n",
              "      <td>1261.0</td>\n",
              "      <td>0.09780</td>\n",
              "      <td>0.10340</td>\n",
              "      <td>0.14400</td>\n",
              "      <td>0.09791</td>\n",
              "      <td>...</td>\n",
              "      <td>38.25</td>\n",
              "      <td>155.00</td>\n",
              "      <td>1731.0</td>\n",
              "      <td>0.11660</td>\n",
              "      <td>0.19220</td>\n",
              "      <td>0.3215</td>\n",
              "      <td>0.1628</td>\n",
              "      <td>0.2572</td>\n",
              "      <td>0.06637</td>\n",
              "      <td>NaN</td>\n",
              "    </tr>\n",
              "    <tr>\n",
              "      <th>566</th>\n",
              "      <td>926954</td>\n",
              "      <td>0</td>\n",
              "      <td>16.60</td>\n",
              "      <td>28.08</td>\n",
              "      <td>108.30</td>\n",
              "      <td>858.1</td>\n",
              "      <td>0.08455</td>\n",
              "      <td>0.10230</td>\n",
              "      <td>0.09251</td>\n",
              "      <td>0.05302</td>\n",
              "      <td>...</td>\n",
              "      <td>34.12</td>\n",
              "      <td>126.70</td>\n",
              "      <td>1124.0</td>\n",
              "      <td>0.11390</td>\n",
              "      <td>0.30940</td>\n",
              "      <td>0.3403</td>\n",
              "      <td>0.1418</td>\n",
              "      <td>0.2218</td>\n",
              "      <td>0.07820</td>\n",
              "      <td>NaN</td>\n",
              "    </tr>\n",
              "    <tr>\n",
              "      <th>567</th>\n",
              "      <td>927241</td>\n",
              "      <td>0</td>\n",
              "      <td>20.60</td>\n",
              "      <td>29.33</td>\n",
              "      <td>140.10</td>\n",
              "      <td>1265.0</td>\n",
              "      <td>0.11780</td>\n",
              "      <td>0.27700</td>\n",
              "      <td>0.35140</td>\n",
              "      <td>0.15200</td>\n",
              "      <td>...</td>\n",
              "      <td>39.42</td>\n",
              "      <td>184.60</td>\n",
              "      <td>1821.0</td>\n",
              "      <td>0.16500</td>\n",
              "      <td>0.86810</td>\n",
              "      <td>0.9387</td>\n",
              "      <td>0.2650</td>\n",
              "      <td>0.4087</td>\n",
              "      <td>0.12400</td>\n",
              "      <td>NaN</td>\n",
              "    </tr>\n",
              "    <tr>\n",
              "      <th>568</th>\n",
              "      <td>92751</td>\n",
              "      <td>1</td>\n",
              "      <td>7.76</td>\n",
              "      <td>24.54</td>\n",
              "      <td>47.92</td>\n",
              "      <td>181.0</td>\n",
              "      <td>0.05263</td>\n",
              "      <td>0.04362</td>\n",
              "      <td>0.00000</td>\n",
              "      <td>0.00000</td>\n",
              "      <td>...</td>\n",
              "      <td>30.37</td>\n",
              "      <td>59.16</td>\n",
              "      <td>268.6</td>\n",
              "      <td>0.08996</td>\n",
              "      <td>0.06444</td>\n",
              "      <td>0.0000</td>\n",
              "      <td>0.0000</td>\n",
              "      <td>0.2871</td>\n",
              "      <td>0.07039</td>\n",
              "      <td>NaN</td>\n",
              "    </tr>\n",
              "  </tbody>\n",
              "</table>\n",
              "<p>569 rows × 33 columns</p>\n",
              "</div>"
            ],
            "text/plain": [
              "           id diagnosis  radius_mean  texture_mean  perimeter_mean  area_mean  \\\n",
              "0      842302         0        17.99         10.38          122.80     1001.0   \n",
              "1      842517         0        20.57         17.77          132.90     1326.0   \n",
              "2    84300903         0        19.69         21.25          130.00     1203.0   \n",
              "3    84348301         0        11.42         20.38           77.58      386.1   \n",
              "4    84358402         0        20.29         14.34          135.10     1297.0   \n",
              "..        ...       ...          ...           ...             ...        ...   \n",
              "564    926424         0        21.56         22.39          142.00     1479.0   \n",
              "565    926682         0        20.13         28.25          131.20     1261.0   \n",
              "566    926954         0        16.60         28.08          108.30      858.1   \n",
              "567    927241         0        20.60         29.33          140.10     1265.0   \n",
              "568     92751         1         7.76         24.54           47.92      181.0   \n",
              "\n",
              "     smoothness_mean  compactness_mean  concavity_mean  concave points_mean  \\\n",
              "0            0.11840           0.27760         0.30010              0.14710   \n",
              "1            0.08474           0.07864         0.08690              0.07017   \n",
              "2            0.10960           0.15990         0.19740              0.12790   \n",
              "3            0.14250           0.28390         0.24140              0.10520   \n",
              "4            0.10030           0.13280         0.19800              0.10430   \n",
              "..               ...               ...             ...                  ...   \n",
              "564          0.11100           0.11590         0.24390              0.13890   \n",
              "565          0.09780           0.10340         0.14400              0.09791   \n",
              "566          0.08455           0.10230         0.09251              0.05302   \n",
              "567          0.11780           0.27700         0.35140              0.15200   \n",
              "568          0.05263           0.04362         0.00000              0.00000   \n",
              "\n",
              "     ...  texture_worst  perimeter_worst  area_worst  smoothness_worst  \\\n",
              "0    ...          17.33           184.60      2019.0           0.16220   \n",
              "1    ...          23.41           158.80      1956.0           0.12380   \n",
              "2    ...          25.53           152.50      1709.0           0.14440   \n",
              "3    ...          26.50            98.87       567.7           0.20980   \n",
              "4    ...          16.67           152.20      1575.0           0.13740   \n",
              "..   ...            ...              ...         ...               ...   \n",
              "564  ...          26.40           166.10      2027.0           0.14100   \n",
              "565  ...          38.25           155.00      1731.0           0.11660   \n",
              "566  ...          34.12           126.70      1124.0           0.11390   \n",
              "567  ...          39.42           184.60      1821.0           0.16500   \n",
              "568  ...          30.37            59.16       268.6           0.08996   \n",
              "\n",
              "     compactness_worst  concavity_worst  concave points_worst  symmetry_worst  \\\n",
              "0              0.66560           0.7119                0.2654          0.4601   \n",
              "1              0.18660           0.2416                0.1860          0.2750   \n",
              "2              0.42450           0.4504                0.2430          0.3613   \n",
              "3              0.86630           0.6869                0.2575          0.6638   \n",
              "4              0.20500           0.4000                0.1625          0.2364   \n",
              "..                 ...              ...                   ...             ...   \n",
              "564            0.21130           0.4107                0.2216          0.2060   \n",
              "565            0.19220           0.3215                0.1628          0.2572   \n",
              "566            0.30940           0.3403                0.1418          0.2218   \n",
              "567            0.86810           0.9387                0.2650          0.4087   \n",
              "568            0.06444           0.0000                0.0000          0.2871   \n",
              "\n",
              "     fractal_dimension_worst  Unnamed: 32  \n",
              "0                    0.11890          NaN  \n",
              "1                    0.08902          NaN  \n",
              "2                    0.08758          NaN  \n",
              "3                    0.17300          NaN  \n",
              "4                    0.07678          NaN  \n",
              "..                       ...          ...  \n",
              "564                  0.07115          NaN  \n",
              "565                  0.06637          NaN  \n",
              "566                  0.07820          NaN  \n",
              "567                  0.12400          NaN  \n",
              "568                  0.07039          NaN  \n",
              "\n",
              "[569 rows x 33 columns]"
            ]
          },
          "execution_count": 46,
          "metadata": {},
          "output_type": "execute_result"
        }
      ],
      "source": [
        "# Note :- There are many existing Encoders for converting String to Numeric Labels, but for convenience, we used Pandas.\n",
        "\n",
        "condition_M = data.diagnosis == \"M\"\n",
        "condition_B = data.diagnosis == \"B\"\n",
        "\n",
        "data.loc[condition_M,\"diagnosis\"]=0\n",
        "data.loc[condition_B,\"diagnosis\"]=1\n",
        "\n",
        "data"
      ]
    },
    {
      "cell_type": "markdown",
      "metadata": {
        "id": "Jap3U-6ln0uw"
      },
      "source": [
        "# 3.) Converting Dataframe into Numpy Arrays (Features and Labels)"
      ]
    },
    {
      "cell_type": "code",
      "execution_count": 47,
      "metadata": {
        "id": "Uw2BmOHAn3Kn"
      },
      "outputs": [],
      "source": [
        "Y = data.diagnosis.to_numpy().astype('int')                                     # Labels\n",
        "\n",
        "X_data = data.drop(columns=[\"id\",\"diagnosis\",\"Unnamed: 32\"])\n",
        "X = X_data.to_numpy()                                                           # Input Features"
      ]
    },
    {
      "cell_type": "markdown",
      "metadata": {
        "id": "37VUU_dvn6en"
      },
      "source": [
        "# 4.) Splitting the Dataset into Train and Test Portions"
      ]
    },
    {
      "cell_type": "code",
      "execution_count": 48,
      "metadata": {
        "id": "mx_25P1un9-q"
      },
      "outputs": [],
      "source": [
        "user_prompt = 0.3\n",
        "user_enable = False\n",
        "\n",
        "x_train,x_test,y_train,y_test = tts(X,Y,test_size=user_prompt,shuffle=user_enable)"
      ]
    },
    {
      "cell_type": "markdown",
      "metadata": {
        "id": "GTg9AHpHoBN6"
      },
      "source": [
        "# 5.) Model Training and Predicting"
      ]
    },
    {
      "cell_type": "code",
      "execution_count": 49,
      "metadata": {
        "id": "VML5vS0PoDlb"
      },
      "outputs": [],
      "source": [
        "# Note :- Don't worry about the code snippet here, it is just to produce the predictions for the test data portion of each classifier\n",
        "\n",
        "logistic_model = LR()\n",
        "logistic_model.fit(x_train,y_train)\n",
        "logistic_pred = logistic_model.predict(x_test)\n",
        "\n",
        "decision_model = DTC()\n",
        "decision_model.fit(x_train,y_train)\n",
        "decision_pred = decision_model.predict(x_test)"
      ]
    },
    {
      "cell_type": "markdown",
      "metadata": {
        "id": "tdYfCL6MoI2Z"
      },
      "source": [
        "# 6.) Evaluation Metrics (Inbulit v/s Scaratch)"
      ]
    },
    {
      "cell_type": "code",
      "execution_count": 50,
      "metadata": {
        "colab": {
          "base_uri": "https://localhost:8080/"
        },
        "id": "kClAjKVToJfh",
        "outputId": "bd19b66c-055f-4f8f-9f0c-e7d7698226e3"
      },
      "outputs": [
        {
          "name": "stdout",
          "output_type": "stream",
          "text": [
            "Confusion Matrix for Logistic Regression-based Predictions =>\n",
            "[[ 38   1]\n",
            " [ 11 121]]\n",
            "Confusion Matrix for Decision Tree-based Predictions =>\n",
            "[[ 38   1]\n",
            " [ 25 107]]\n",
            "[[ 38   1]\n",
            " [ 11 121]]\n",
            "[[ 38   1]\n",
            " [ 25 107]]\n"
          ]
        }
      ],
      "source": [
        "inbuilt_matrix_logistic = cm(y_test,logistic_pred)\n",
        "inbuilt_matrix_decision = cm(y_test,decision_pred)\n",
        "\n",
        "print(\"Confusion Matrix for Logistic Regression-based Predictions =>\")\n",
        "print(inbuilt_matrix_logistic)\n",
        "print(\"Confusion Matrix for Decision Tree-based Predictions =>\")\n",
        "print(inbuilt_matrix_decision)\n",
        "\n",
        "def confusion_matrix(y_test,logistic_pred,decision_pred):\n",
        "  confmat1 = np.zeros((2,2),dtype=np.int16)\n",
        "  confmat2 = np.zeros((2,2),dtype=np.int16)\n",
        "  for i in range(len(y_test)):\n",
        "      confmat1[y_test[i]][logistic_pred[i]]+=1\n",
        "  for i in range(len(y_test)):\n",
        "      confmat2[y_test[i]][decision_pred[i]]+=1\n",
        "  return confmat1,confmat2\n",
        "\n",
        "a,b=confusion_matrix(y_test,logistic_pred,decision_pred)\n",
        "print(a)\n",
        "print(b)"
      ]
    },
    {
      "cell_type": "markdown",
      "metadata": {
        "id": "bcV0xFbFoehB"
      },
      "source": [
        "## Average Accuracy"
      ]
    },
    {
      "cell_type": "code",
      "execution_count": 51,
      "metadata": {
        "colab": {
          "base_uri": "https://localhost:8080/"
        },
        "id": "Ah7RnO0YohDI",
        "outputId": "84ad3f9d-116b-49e8-e05a-d12c2fd41913"
      },
      "outputs": [
        {
          "name": "stdout",
          "output_type": "stream",
          "text": [
            "Accuracy for Logistic Regression-based Predictions => 92.98245614035088%\n",
            "Accuracy for Decision Tree-based Predictions => 84.7953216374269%\n",
            "92.98245614035088\n",
            "84.7953216374269\n"
          ]
        }
      ],
      "source": [
        "inbuilt_acc_logistic = acc(y_test,logistic_pred)\n",
        "inbuilt_acc_decision = acc(y_test,decision_pred)\n",
        "\n",
        "print(\"Accuracy for Logistic Regression-based Predictions =>\",str(inbuilt_acc_logistic*100)+\"%\")\n",
        "print(\"Accuracy for Decision Tree-based Predictions =>\",str(inbuilt_acc_decision*100)+\"%\")\n",
        "\n",
        "def avg_accuracy():\n",
        "  a,b=confusion_matrix(y_test,logistic_pred,decision_pred)\n",
        "  logistic_avg = (a[0][0]+a[1][1])/(a[0][0]+a[1][1]+a[1][0]+a[0][1])\n",
        "  decision_avg = (b[0][0]+b[1][1])/(b[0][0]+b[1][1]+b[1][0]+b[0][1])\n",
        "  return logistic_avg,decision_avg\n",
        "a1,b1 = avg_accuracy()\n",
        "print(a1*100)\n",
        "print(b1*100)"
      ]
    },
    {
      "cell_type": "markdown",
      "metadata": {
        "id": "2uJk6XcMojv1"
      },
      "source": [
        "## Precision"
      ]
    },
    {
      "cell_type": "code",
      "execution_count": 52,
      "metadata": {
        "colab": {
          "base_uri": "https://localhost:8080/"
        },
        "id": "LuWT_3tLomWV",
        "outputId": "6c651ea0-a24b-447c-f363-e61ccac34f93"
      },
      "outputs": [
        {
          "name": "stdout",
          "output_type": "stream",
          "text": [
            "Precision for Logistic Regression-based Predictions => 99.18032786885246%\n",
            "Precision for Decision Tree-based Predictions => 99.07407407407408%\n",
            "99.18032786885246\n",
            "99.07407407407408\n"
          ]
        }
      ],
      "source": [
        "inbuilt_ps_logistic = ps(y_test,logistic_pred)\n",
        "inbuilt_ps_decision = ps(y_test,decision_pred)\n",
        "\n",
        "print(\"Precision for Logistic Regression-based Predictions =>\",str(inbuilt_ps_logistic*100)+\"%\")\n",
        "print(\"Precision for Decision Tree-based Predictions =>\",str(inbuilt_ps_decision*100)+\"%\")\n",
        "\n",
        "def precision():\n",
        "  a,b=confusion_matrix(y_test,logistic_pred,decision_pred)\n",
        "  log_pre = a[1][1]/(a[1][1]+a[0][1])\n",
        "  dec_pre = b[1][1]/(b[1][1]+b[0][1])\n",
        "  return log_pre,dec_pre\n",
        "pre1,pre2 = precision()\n",
        "print(pre1*100)\n",
        "print(pre2*100)\n"
      ]
    },
    {
      "cell_type": "markdown",
      "metadata": {
        "id": "4q7Jzh2ZoqRi"
      },
      "source": [
        "## Recall"
      ]
    },
    {
      "cell_type": "code",
      "execution_count": 53,
      "metadata": {
        "colab": {
          "base_uri": "https://localhost:8080/"
        },
        "id": "9iJ5axRYouTI",
        "outputId": "124fcb67-31c6-438e-b8c2-3ce8067e352f"
      },
      "outputs": [
        {
          "name": "stdout",
          "output_type": "stream",
          "text": [
            "Recall for Logistic Regression-based Predictions => 91.66666666666666%\n",
            "Recall for Decision Tree-based Predictions => 81.06060606060606%\n",
            "91.66666666666666\n",
            "81.06060606060606\n"
          ]
        }
      ],
      "source": [
        "inbuilt_rs_logistic = rs(y_test,logistic_pred)\n",
        "inbuilt_rs_decision = rs(y_test,decision_pred)\n",
        "\n",
        "print(\"Recall for Logistic Regression-based Predictions =>\",str(inbuilt_rs_logistic*100)+\"%\")\n",
        "print(\"Recall for Decision Tree-based Predictions =>\",str(inbuilt_rs_decision*100)+\"%\")\n",
        "\n",
        "def recall():\n",
        "  rec1 = a[1][1]/(a[1][1]+a[1][0])\n",
        "  rec2 = b[1][1]/(b[1][1]+b[1][0])\n",
        "  return rec1,rec2\n",
        "rec1,rec2 = recall()\n",
        "print(rec1*100)\n",
        "print(rec2*100)"
      ]
    },
    {
      "cell_type": "markdown",
      "metadata": {
        "id": "QaGQwYc_oziI"
      },
      "source": [
        "## F-1 Score"
      ]
    },
    {
      "cell_type": "code",
      "execution_count": 54,
      "metadata": {
        "colab": {
          "base_uri": "https://localhost:8080/"
        },
        "id": "Ys4Lb6bvo0OP",
        "outputId": "4d2805c9-e0f4-4221-a67d-9d6615c617dd"
      },
      "outputs": [
        {
          "name": "stdout",
          "output_type": "stream",
          "text": [
            "F1-Score for Logistic Regression-based Predictions => 95.2755905511811%\n",
            "F1-Score for Decision Tree-based Predictions => 89.16666666666666%\n",
            "95.2755905511811\n",
            "89.16666666666666\n"
          ]
        }
      ],
      "source": [
        "inbuilt_f1s_logistic = f1s(y_test,logistic_pred)\n",
        "inbuilt_f1s_decision = f1s(y_test,decision_pred)\n",
        "\n",
        "print(\"F1-Score for Logistic Regression-based Predictions =>\",str(inbuilt_f1s_logistic*100)+\"%\")\n",
        "print(\"F1-Score for Decision Tree-based Predictions =>\",str(inbuilt_f1s_decision*100)+\"%\")\n",
        "\n",
        "def f1_score():\n",
        "  f11 = 2/((1/pre1)+(1/rec1))\n",
        "  f22 = 2/((1/pre2)+(1/rec2))\n",
        "  return f11,f22\n",
        "f11,f22 = f1_score()\n",
        "print(f11*100)\n",
        "print(f22*100)"
      ]
    },
    {
      "cell_type": "markdown",
      "metadata": {
        "id": "N1UscAbNo3nF"
      },
      "source": [
        "## Class-Wise Accuracy"
      ]
    },
    {
      "cell_type": "code",
      "execution_count": 55,
      "metadata": {
        "colab": {
          "base_uri": "https://localhost:8080/"
        },
        "id": "uLovLZ0Ao6M5",
        "outputId": "39697804-e08f-4a21-a598-a3afb6b6fac1"
      },
      "outputs": [
        {
          "name": "stdout",
          "output_type": "stream",
          "text": [
            "95.42349726775956\n",
            "90.06734006734007\n"
          ]
        }
      ],
      "source": [
        "def class_accuracy():\n",
        "  c_acc1 = (pre1+rec1)/2\n",
        "  c_acc2 = (pre2+rec2)/2\n",
        "  return c_acc1,c_acc2\n",
        "c_acc1,c_acc2 = class_accuracy()\n",
        "print(c_acc1*100)\n",
        "print(c_acc2*100) "
      ]
    },
    {
      "cell_type": "markdown",
      "metadata": {
        "id": "bjwAMaTyo_Ze"
      },
      "source": [
        "## Sensitivity"
      ]
    },
    {
      "cell_type": "code",
      "execution_count": 56,
      "metadata": {
        "colab": {
          "base_uri": "https://localhost:8080/"
        },
        "id": "uUdNRdFgpALC",
        "outputId": "e94f434d-deb3-4fbd-fd7b-c9a07271890a"
      },
      "outputs": [
        {
          "name": "stdout",
          "output_type": "stream",
          "text": [
            "91.66666666666666\n",
            "81.06060606060606\n"
          ]
        }
      ],
      "source": [
        "def sensitivity():\n",
        "  sen1 = rec1\n",
        "  sen2 = rec2\n",
        "  return rec1,rec2\n",
        "sen1,sen2 = sensitivity()\n",
        "print(sen1*100)\n",
        "print(sen2*100)"
      ]
    },
    {
      "cell_type": "markdown",
      "metadata": {
        "id": "tdIEWBORpN7u"
      },
      "source": [
        "## Specificity"
      ]
    },
    {
      "cell_type": "code",
      "execution_count": 57,
      "metadata": {
        "colab": {
          "base_uri": "https://localhost:8080/"
        },
        "id": "iU4IWx6xpOjE",
        "outputId": "7c2a7491-cd57-4c2d-d1dc-12592eef1b6c"
      },
      "outputs": [
        {
          "name": "stdout",
          "output_type": "stream",
          "text": [
            "97.43589743589743\n",
            "97.43589743589743\n"
          ]
        }
      ],
      "source": [
        "def specificity():\n",
        "  spe1 = a[0][0]/(a[0][0]+a[0][1])\n",
        "  spe2 = b[0][0]/(b[0][0]+b[0][1])\n",
        "  return spe1,spe2\n",
        "spe1,spe2 = specificity()\n",
        "print(spe1*100)\n",
        "print(spe2*100)\n"
      ]
    },
    {
      "cell_type": "markdown",
      "metadata": {
        "id": "8WZxmXMOmym4"
      },
      "source": []
    }
  ],
  "metadata": {
    "colab": {
      "provenance": []
    },
    "kernelspec": {
      "display_name": "Python 3",
      "language": "python",
      "name": "python3"
    },
    "language_info": {
      "codemirror_mode": {
        "name": "ipython",
        "version": 3
      },
      "file_extension": ".py",
      "mimetype": "text/x-python",
      "name": "python",
      "nbconvert_exporter": "python",
      "pygments_lexer": "ipython3",
      "version": "3.11.1"
    },
    "vscode": {
      "interpreter": {
        "hash": "b88b6f323774fda61f42c690ca394e3c82179512a850381b7267e82b98c10cf8"
      }
    }
  },
  "nbformat": 4,
  "nbformat_minor": 0
}
